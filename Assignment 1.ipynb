{
 "cells": [
  {
   "source": [
    "### Import numpy"
   ],
   "cell_type": "markdown",
   "metadata": {}
  },
  {
   "cell_type": "code",
   "execution_count": 1,
   "metadata": {},
   "outputs": [],
   "source": [
    "import numpy as np"
   ]
  },
  {
   "source": [
    "### Make an array with numpy"
   ],
   "cell_type": "markdown",
   "metadata": {}
  },
  {
   "cell_type": "code",
   "execution_count": 2,
   "metadata": {},
   "outputs": [
    {
     "output_type": "execute_result",
     "data": {
      "text/plain": [
       "array([21, 34, 22, 49])"
      ]
     },
     "metadata": {},
     "execution_count": 2
    }
   ],
   "source": [
    "myarray = np.array([21,34,22,49])\n",
    "myarray"
   ]
  },
  {
   "source": [
    "### Sort array elements"
   ],
   "cell_type": "markdown",
   "metadata": {}
  },
  {
   "cell_type": "code",
   "execution_count": 3,
   "metadata": {},
   "outputs": [
    {
     "output_type": "execute_result",
     "data": {
      "text/plain": [
       "array([21, 22, 34, 49])"
      ]
     },
     "metadata": {},
     "execution_count": 3
    }
   ],
   "source": [
    "sorted_myarray = np.sort(myarray)\n",
    "sorted_myarray"
   ]
  },
  {
   "source": [
    "### Check sorted_myarray's dimension"
   ],
   "cell_type": "markdown",
   "metadata": {}
  },
  {
   "cell_type": "code",
   "execution_count": 4,
   "metadata": {},
   "outputs": [
    {
     "output_type": "execute_result",
     "data": {
      "text/plain": [
       "1"
      ]
     },
     "metadata": {},
     "execution_count": 4
    }
   ],
   "source": [
    "np.ndim(sorted_myarray)"
   ]
  },
  {
   "source": [
    "### Shape of the sorted_myarray"
   ],
   "cell_type": "markdown",
   "metadata": {}
  },
  {
   "cell_type": "code",
   "execution_count": 5,
   "metadata": {},
   "outputs": [
    {
     "output_type": "execute_result",
     "data": {
      "text/plain": [
       "(4,)"
      ]
     },
     "metadata": {},
     "execution_count": 5
    }
   ],
   "source": [
    "sorted_myarray.shape"
   ]
  },
  {
   "source": [
    "### Find the data type of the elements in an array"
   ],
   "cell_type": "markdown",
   "metadata": {}
  },
  {
   "cell_type": "code",
   "execution_count": 6,
   "metadata": {},
   "outputs": [
    {
     "output_type": "execute_result",
     "data": {
      "text/plain": [
       "dtype('int32')"
      ]
     },
     "metadata": {},
     "execution_count": 6
    }
   ],
   "source": [
    "sorted_myarray.dtype"
   ]
  },
  {
   "source": [
    "### Size in bytes of each element in an array"
   ],
   "cell_type": "markdown",
   "metadata": {}
  },
  {
   "cell_type": "code",
   "execution_count": 7,
   "metadata": {},
   "outputs": [
    {
     "output_type": "execute_result",
     "data": {
      "text/plain": [
       "4"
      ]
     },
     "metadata": {},
     "execution_count": 7
    }
   ],
   "source": [
    "sorted_myarray.itemsize"
   ]
  },
  {
   "source": [
    "### The buffer containing the actual elements of the array"
   ],
   "cell_type": "markdown",
   "metadata": {}
  },
  {
   "cell_type": "code",
   "execution_count": 8,
   "metadata": {},
   "outputs": [
    {
     "output_type": "execute_result",
     "data": {
      "text/plain": [
       "<memory at 0x0000024544FBCE80>"
      ]
     },
     "metadata": {},
     "execution_count": 8
    }
   ],
   "source": [
    "sorted_myarray.data"
   ]
  },
  {
   "source": [
    "### Know the type of an object"
   ],
   "cell_type": "markdown",
   "metadata": {}
  },
  {
   "cell_type": "code",
   "execution_count": 9,
   "metadata": {},
   "outputs": [
    {
     "output_type": "execute_result",
     "data": {
      "text/plain": [
       "numpy.ndarray"
      ]
     },
     "metadata": {},
     "execution_count": 9
    }
   ],
   "source": [
    "type(sorted_myarray)"
   ]
  },
  {
   "source": [
    "### Create an uninitialized array"
   ],
   "cell_type": "markdown",
   "metadata": {}
  },
  {
   "cell_type": "code",
   "execution_count": 10,
   "metadata": {},
   "outputs": [
    {
     "output_type": "execute_result",
     "data": {
      "text/plain": [
       "array([[0., 0., 0.],\n",
       "       [0., 0., 0.]])"
      ]
     },
     "metadata": {},
     "execution_count": 10
    }
   ],
   "source": [
    "un_initialized_array = np.empty((2,3))\n",
    "un_initialized_array"
   ]
  },
  {
   "source": [
    "### Zeros Array"
   ],
   "cell_type": "markdown",
   "metadata": {}
  },
  {
   "cell_type": "code",
   "execution_count": 11,
   "metadata": {},
   "outputs": [
    {
     "output_type": "execute_result",
     "data": {
      "text/plain": [
       "array([[0., 0., 0.],\n",
       "       [0., 0., 0.]])"
      ]
     },
     "metadata": {},
     "execution_count": 11
    }
   ],
   "source": [
    "zeros_array = np.zeros((2,3))\n",
    "zeros_array"
   ]
  },
  {
   "source": [
    "### Ones Array"
   ],
   "cell_type": "markdown",
   "metadata": {}
  },
  {
   "cell_type": "code",
   "execution_count": 12,
   "metadata": {},
   "outputs": [
    {
     "output_type": "execute_result",
     "data": {
      "text/plain": [
       "array([[1., 1., 1.],\n",
       "       [1., 1., 1.]])"
      ]
     },
     "metadata": {},
     "execution_count": 12
    }
   ],
   "source": [
    "ones_array = np.ones((2,3))\n",
    "ones_array"
   ]
  },
  {
   "source": [
    "### Create array of sequence of numbers"
   ],
   "cell_type": "markdown",
   "metadata": {}
  },
  {
   "cell_type": "code",
   "execution_count": 13,
   "metadata": {},
   "outputs": [
    {
     "output_type": "execute_result",
     "data": {
      "text/plain": [
       "array([ 0,  2,  4,  6,  8, 10, 12, 14, 16, 18])"
      ]
     },
     "metadata": {},
     "execution_count": 13
    }
   ],
   "source": [
    "sequence_array = np.arange(0,20,2)\n",
    "sequence_array"
   ]
  },
  {
   "source": [
    "### Numbers between numbers"
   ],
   "cell_type": "markdown",
   "metadata": {}
  },
  {
   "cell_type": "code",
   "execution_count": 14,
   "metadata": {},
   "outputs": [
    {
     "output_type": "execute_result",
     "data": {
      "text/plain": [
       "array([ 2.        ,  2.72727273,  3.45454545,  4.18181818,  4.90909091,\n",
       "        5.63636364,  6.36363636,  7.09090909,  7.81818182,  8.54545455,\n",
       "        9.27272727, 10.        ])"
      ]
     },
     "metadata": {},
     "execution_count": 14
    }
   ],
   "source": [
    "list_12_numbers_between_2_10 = np.linspace(2,10,12)\n",
    "list_12_numbers_between_2_10"
   ]
  },
  {
   "source": [
    "### print array"
   ],
   "cell_type": "markdown",
   "metadata": {}
  },
  {
   "cell_type": "code",
   "execution_count": 15,
   "metadata": {},
   "outputs": [
    {
     "output_type": "stream",
     "name": "stdout",
     "text": [
      "[ 2.          2.72727273  3.45454545  4.18181818  4.90909091  5.63636364\n  6.36363636  7.09090909  7.81818182  8.54545455  9.27272727 10.        ]\n"
     ]
    }
   ],
   "source": [
    "print(list_12_numbers_between_2_10)"
   ]
  },
  {
   "source": [
    "### Reshape array "
   ],
   "cell_type": "markdown",
   "metadata": {}
  },
  {
   "cell_type": "code",
   "execution_count": 16,
   "metadata": {},
   "outputs": [
    {
     "output_type": "stream",
     "name": "stdout",
     "text": [
      "[  0.  12.  24.  36.  48.  60.  72.  84.  96. 108. 120. 132.]\n[[  0.  12.  24.  36.  48.  60.]\n [ 72.  84.  96. 108. 120. 132.]]\n[[  0.  12.  24.]\n [ 36.  48.  60.]\n [ 72.  84.  96.]\n [108. 120. 132.]]\n"
     ]
    }
   ],
   "source": [
    "a = np.linspace(0,132,12)\n",
    "print(a)\n",
    "a = a.reshape(2,6)\n",
    "print(a)\n",
    "a = a.reshape(4,3)\n",
    "print(a)"
   ]
  },
  {
   "source": [
    "### Generate random numbers array"
   ],
   "cell_type": "markdown",
   "metadata": {}
  },
  {
   "cell_type": "code",
   "execution_count": 17,
   "metadata": {},
   "outputs": [
    {
     "output_type": "execute_result",
     "data": {
      "text/plain": [
       "array([[0.9621091 , 0.66320119, 0.80960213],\n",
       "       [0.72215321, 0.72702855, 0.93154923]])"
      ]
     },
     "metadata": {},
     "execution_count": 17
    }
   ],
   "source": [
    "r = np.random.rand(2,3)\n",
    "r"
   ]
  },
  {
   "source": [
    "### Get max value in an array"
   ],
   "cell_type": "markdown",
   "metadata": {}
  },
  {
   "cell_type": "code",
   "execution_count": 18,
   "metadata": {},
   "outputs": [
    {
     "output_type": "execute_result",
     "data": {
      "text/plain": [
       "0.9621091046270878"
      ]
     },
     "metadata": {},
     "execution_count": 18
    }
   ],
   "source": [
    "r.max()"
   ]
  },
  {
   "source": [
    "### Get min value in an array"
   ],
   "cell_type": "markdown",
   "metadata": {}
  },
  {
   "cell_type": "code",
   "execution_count": 19,
   "metadata": {},
   "outputs": [
    {
     "output_type": "execute_result",
     "data": {
      "text/plain": [
       "0.6632011942692503"
      ]
     },
     "metadata": {},
     "execution_count": 19
    }
   ],
   "source": [
    "r.min()"
   ]
  },
  {
   "source": [
    "### Sum array elements"
   ],
   "cell_type": "markdown",
   "metadata": {}
  },
  {
   "cell_type": "code",
   "execution_count": 20,
   "metadata": {},
   "outputs": [
    {
     "output_type": "execute_result",
     "data": {
      "text/plain": [
       "4.8156434194795406"
      ]
     },
     "metadata": {},
     "execution_count": 20
    }
   ],
   "source": [
    "r.sum()"
   ]
  },
  {
   "source": [
    "### Sum columns in 2D Array"
   ],
   "cell_type": "markdown",
   "metadata": {}
  },
  {
   "cell_type": "code",
   "execution_count": 21,
   "metadata": {},
   "outputs": [
    {
     "output_type": "stream",
     "name": "stdout",
     "text": [
      "[[ 0  1  2  3]\n [ 4  5  6  7]\n [ 8  9 10 11]]\n"
     ]
    },
    {
     "output_type": "execute_result",
     "data": {
      "text/plain": [
       "array([12, 15, 18, 21])"
      ]
     },
     "metadata": {},
     "execution_count": 21
    }
   ],
   "source": [
    "two_d_array = np.arange(12).reshape(3,4)\n",
    "print(two_d_array)\n",
    "two_d_array.sum(axis=0)"
   ]
  },
  {
   "source": [
    "### Sum rows in 2D Array"
   ],
   "cell_type": "markdown",
   "metadata": {}
  },
  {
   "cell_type": "code",
   "execution_count": 22,
   "metadata": {},
   "outputs": [
    {
     "output_type": "stream",
     "name": "stdout",
     "text": [
      "[[ 0  1  2  3]\n [ 4  5  6  7]\n [ 8  9 10 11]]\n"
     ]
    },
    {
     "output_type": "execute_result",
     "data": {
      "text/plain": [
       "array([ 6, 22, 38])"
      ]
     },
     "metadata": {},
     "execution_count": 22
    }
   ],
   "source": [
    "two_d_array = np.arange(12).reshape(3,4)\n",
    "print(two_d_array)\n",
    "two_d_array.sum(axis=1)"
   ]
  },
  {
   "source": [
    "### Get element at particular index"
   ],
   "cell_type": "markdown",
   "metadata": {}
  },
  {
   "cell_type": "code",
   "execution_count": 23,
   "metadata": {},
   "outputs": [
    {
     "output_type": "stream",
     "name": "stdout",
     "text": [
      "[ 0  1  4  9 16 25]\n4\n"
     ]
    }
   ],
   "source": [
    "a = np.arange(6)**2\n",
    "print(a)\n",
    "print(a[2])"
   ]
  },
  {
   "cell_type": "code",
   "execution_count": null,
   "metadata": {},
   "outputs": [],
   "source": []
  }
 ],
 "metadata": {
  "kernelspec": {
   "display_name": "Python 3",
   "language": "python",
   "name": "python3"
  },
  "language_info": {
   "codemirror_mode": {
    "name": "ipython",
    "version": 3
   },
   "file_extension": ".py",
   "mimetype": "text/x-python",
   "name": "python",
   "nbconvert_exporter": "python",
   "pygments_lexer": "ipython3",
   "version": "3.8.6-candidate"
  }
 },
 "nbformat": 4,
 "nbformat_minor": 4
}